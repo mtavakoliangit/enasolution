{
 "cells": [
  {
   "cell_type": "code",
   "execution_count": 1,
   "id": "71d5ff62-fa31-4183-bf92-4e994290d3a5",
   "metadata": {},
   "outputs": [],
   "source": [
    "# assumptions in weather_data dictionary:\n",
    "# 1. format matches\n",
    "# 2. temperature in Kelvin\n",
    "# 3. pressure in hPa\n",
    "# 4. cloud is in percentage \n",
    "# 5. data is hourly (difference between dt's = 3600 sec)"
   ]
  },
  {
   "cell_type": "code",
   "execution_count": 2,
   "id": "fa8db27a-d7ea-42bc-b671-dca370bf04c0",
   "metadata": {},
   "outputs": [],
   "source": [
    "weather_data = {\"message\": \"Count: 25\", \"cod\": \"200\", \"city_id\": 1, \"calctime\": 0.005118065, \"cnt\": 25, \n",
    "                \"list\": [{\"dt\": 1633071600, \n",
    "                          \"main\": {\"temp\": 285.27, \"feels_like\": 283.92, \"pressure\": 1011, \"humidity\": 53, \"temp_min\": 282.77, \"temp_max\": 286.76}, \n",
    "                          \"wind\": {\"speed\": 0.89, \"deg\": 309, \"gust\": 2.68}, \n",
    "                          \"clouds\": {\"all\": 100}, \n",
    "                          \"weather\": [{\"id\": 804, \"main\": \"Clouds\", \"description\": \"overcast clouds\", \"icon\": \"04n\"}]}, \n",
    "                         {\"dt\": 1633075200, \n",
    "                          \"main\": {\"temp\": 285.17, \"feels_like\": 283.81, \"pressure\": 1012, \"humidity\": 53, \"temp_min\": 281.66, \"temp_max\": 286.76}, \n",
    "                          \"wind\": {\"speed\": 1.34, \"deg\": 350, \"gust\": 4.47}, \n",
    "                          \"clouds\": {\"all\": 100}, \n",
    "                          \"weather\": [{\"id\": 804, \"main\": \"Clouds\", \"description\": \"overcast clouds\", \"icon\": \"04n\"}]}, \n",
    "                         {\"dt\": 1633078800, \n",
    "                          \"main\": {\"temp\": 285.09, \"feels_like\": 283.57, \"pressure\": 1013, \"humidity\": 47, \"temp_min\": 281.11, \"temp_max\": 286.21}, \n",
    "                          \"wind\": {\"speed\": 1.34, \"deg\": 321, \"gust\": 2.68}, \n",
    "                          \"clouds\": {\"all\": 100}, \n",
    "                          \"weather\": [{\"id\": 804, \"main\": \"Clouds\", \"description\": \"overcast clouds\", \"icon\": \"04n\"}]}]}"
   ]
  },
  {
   "cell_type": "code",
   "execution_count": 3,
   "id": "6245bd10-7eb9-4ab7-975f-096a36a2227e",
   "metadata": {},
   "outputs": [],
   "source": [
    "inside_data = {'reading_temp' : 16,\n",
    "               'setpoint' : 20,\n",
    "               'humidity' : 18}"
   ]
  },
  {
   "cell_type": "code",
   "execution_count": 4,
   "id": "8d464c3e-6396-400f-8d5f-edac68b8f272",
   "metadata": {},
   "outputs": [],
   "source": [
    "# imports\n",
    "from tensorflow import keras\n",
    "from pickle import load\n",
    "import pandas as pd"
   ]
  },
  {
   "cell_type": "code",
   "execution_count": 5,
   "id": "c85ab79c-dc91-4e1e-9108-00c10584ff93",
   "metadata": {},
   "outputs": [],
   "source": [
    "import warnings\n",
    "warnings.filterwarnings('ignore')"
   ]
  },
  {
   "cell_type": "code",
   "execution_count": 6,
   "id": "5ee4875c-d332-42fc-b8d0-9b28ad9d46a0",
   "metadata": {},
   "outputs": [],
   "source": [
    "def Test_Weather_Data_Validity (weather_data):\n",
    "    valid = True\n",
    "    for i in range(len(weather_data['list']) - 1):\n",
    "        if weather_data['list'][i+1]['dt'] - weather_data['list'][i]['dt'] != 3600:\n",
    "            valid = False\n",
    "    if not valid:\n",
    "        print('Wrong weather data format. Make sure the frequency of your weather data is 1 hour.')\n",
    "    \n",
    "    return valid"
   ]
  },
  {
   "cell_type": "code",
   "execution_count": 7,
   "id": "3ecc2d08-a4c9-446f-b669-7946982e187c",
   "metadata": {},
   "outputs": [],
   "source": [
    "def Create_InputData_From_Weather_And_Inside (weather_data, inside_data):\n",
    "    input_data = inside_data\n",
    "    if Test_Weather_Data_Validity (weather_data):\n",
    "        input_data['weather'] = weather_data['list']\n",
    "    \n",
    "    return input_data"
   ]
  },
  {
   "cell_type": "code",
   "execution_count": 8,
   "id": "a1cd9237-7c71-4c83-828c-e7eda80fd506",
   "metadata": {},
   "outputs": [],
   "source": [
    "def Read_Learner (path):\n",
    "    return keras.models.load_model(path)"
   ]
  },
  {
   "cell_type": "code",
   "execution_count": 9,
   "id": "0d33620a-f648-4213-8429-f136d73efd67",
   "metadata": {},
   "outputs": [],
   "source": [
    "def Step (x1, x2):\n",
    "    return (x2 - x1) / 4"
   ]
  },
  {
   "cell_type": "code",
   "execution_count": 10,
   "id": "9f6881c5-01b1-4ae4-a5aa-128e70c81a03",
   "metadata": {},
   "outputs": [],
   "source": [
    "def Define_Columns():\n",
    "    return ['setpoint', 'humidity', 'pressure_sea', 'wind_speed', 'outside_humidity', \n",
    "            'cloud_cover_8', 'dt_reading_and_setpoint', 'dt_outside_and_setpoint']"
   ]
  },
  {
   "cell_type": "code",
   "execution_count": 11,
   "id": "11ad94ba-4a57-4784-aea4-fc390fc04f70",
   "metadata": {},
   "outputs": [],
   "source": [
    "def Prep_Input_Data (input_data):\n",
    "    cols = Define_Columns()\n",
    "    df = pd.DataFrame(columns=cols)\n",
    "    df['out_temp'] = ''\n",
    "    if 'weather' in input_data.keys():\n",
    "        sp = input_data['setpoint']\n",
    "        humidity = input_data['humidity']\n",
    "        reading_temp = input_data['reading_temp']\n",
    "        for i in range(len(input_data['weather']) - 1):\n",
    "            # hPa to kPa\n",
    "            ps1 = input_data['weather'][i]['main']['pressure'] / 10\n",
    "            ps2 = input_data['weather'][i+1]['main']['pressure'] / 10\n",
    "            # m/sec to km/hr\n",
    "            wind1 = input_data['weather'][i]['wind']['speed'] * 3.6\n",
    "            wind2 = input_data['weather'][i+1]['wind']['speed'] * 3.6\n",
    "            out_humidity1 = input_data['weather'][i]['main']['humidity']\n",
    "            out_humidity2 = input_data['weather'][i+1]['main']['humidity']\n",
    "            cloud1 = input_data['weather'][i]['clouds']['all'] / 100\n",
    "            cloud2 = input_data['weather'][i+1]['clouds']['all'] / 100\n",
    "            # Kelvin to degC\n",
    "            outTemp1 = input_data['weather'][i]['main']['temp'] - 273.15\n",
    "            outTemp2 = input_data['weather'][i+1]['main']['temp'] - 273.15\n",
    "            for count in range(4):\n",
    "                df.loc[len(df)] = [sp, humidity, \n",
    "                                   ps1 + count * Step(ps1, ps2),\n",
    "                                   wind1 + count * Step(wind1, wind2),\n",
    "                                   out_humidity1 + count * Step(out_humidity1, out_humidity2),\n",
    "                                   cloud1 + count * Step(cloud1, cloud2),\n",
    "                                   '', '',\n",
    "                                   outTemp1 + count * Step(outTemp1, outTemp2)]\n",
    "        df['time'] = ''\n",
    "        df['time'][0] = str(0) + ' min'\n",
    "        df['pred_temp'] = ''\n",
    "        df['pred_temp'][0] = reading_temp\n",
    "        df['dt_reading_and_setpoint'][0] = reading_temp - sp\n",
    "        df['dt_outside_and_setpoint'][0] = input_data['weather'][0]['main']['temp'] - 273.15 - sp\n",
    "    \n",
    "    return df"
   ]
  },
  {
   "cell_type": "code",
   "execution_count": 12,
   "id": "89fd650a-a8bc-4939-afb5-2eb5faf7d2af",
   "metadata": {},
   "outputs": [],
   "source": [
    "def Predict_Temp (weather_data, inside_data):\n",
    "    input_data = Create_InputData_From_Weather_And_Inside (weather_data, inside_data)\n",
    "    df = Prep_Input_Data(input_data)\n",
    "    model1 = Read_Learner('Models/MoreInputs')\n",
    "    model2 = Read_Learner('Models/MoreInputsModified')\n",
    "    cols = Define_Columns()\n",
    "    for i in range(len(df) - 1):\n",
    "        sp = df['setpoint'][i]\n",
    "        humidity = df['humidity'][i]\n",
    "        ps = df['pressure_sea'][i]\n",
    "        wind = df['wind_speed'][i]\n",
    "        out_humid = df['outside_humidity'][i]\n",
    "        cloud = df['cloud_cover_8'][i]\n",
    "        outTemp = df['dt_outside_and_setpoint'][i] + sp\n",
    "        reading = df['pred_temp'][i]\n",
    "        inputData1 = [sp, humidity, ps, wind, out_humid, cloud, reading - sp, outTemp - sp]\n",
    "        inputData2 = [humidity, ps, wind, out_humid, cloud, reading - sp, outTemp - sp]\n",
    "        inputScaled1 = []\n",
    "        inputScaled2 = []\n",
    "        for col in cols:\n",
    "            # load StandardScaler and MinMaxScaler from training \n",
    "            norm = load(open('Models/normer_' + col + '.pkl', 'rb'))\n",
    "            scale = load(open('Models/scaler_' + col + '.pkl', 'rb'))\n",
    "            index1 = cols.index(col)\n",
    "            index2 = cols.index(col) - 1\n",
    "            # normer and scaler have formed based on 2d array (dataframe)\n",
    "            # convert single point data to 2d format\n",
    "            data1 = pd.DataFrame([inputData1[index1]], columns=[col])\n",
    "            inputScaled1.append(norm.transform(scale.transform(data1)))\n",
    "            # inputScaled is formed as an array of arrays\n",
    "            # retrieve values in regular list format\n",
    "            inputScaled1[index1] = inputScaled1[index1][0][0]\n",
    "            if col != 'setpoint':\n",
    "                data2 = pd.DataFrame([inputData2[index2]], columns=[col])\n",
    "                inputScaled2.append(norm.transform(scale.transform(data2)))\n",
    "                inputScaled2[index2] = inputScaled2[index2][0][0]\n",
    "        xVal = pd.DataFrame([inputScaled1], columns=cols)\n",
    "        yVal_pred = pd.DataFrame(model1.predict(xVal), columns=['temp_pred'])\n",
    "        normToInverseOutput = load(open('Models/normer_temp_15minAhead.pkl', 'rb'))\n",
    "        scaleToInverseOutput = load(open('Models/scaler_temp_15minAhead.pkl', 'rb'))\n",
    "        yPred_denorm = normToInverseOutput.inverse_transform(yVal_pred)\n",
    "        pred_temp1 = scaleToInverseOutput.inverse_transform(yPred_denorm)[0][0]\n",
    "        if col != 'setpoint':\n",
    "            modCols = Define_Columns().remove('setpoint')\n",
    "            xVal = pd.DataFrame([inputScaled2], columns=modCols)\n",
    "            yVal_pred = pd.DataFrame(model2.predict(xVal), columns=['temp_pred'])\n",
    "            normToInverseOutput = load(open('Models/normer_dt_15minAhead_setpoint.pkl', 'rb'))\n",
    "            scaleToInverseOutput = load(open('Models/scaler_dt_15minAhead_setpoint.pkl', 'rb'))\n",
    "            yPred_denorm = normToInverseOutput.inverse_transform(yVal_pred)\n",
    "            step = scaleToInverseOutput.inverse_transform(yPred_denorm)[0][0]\n",
    "            pred_temp2 = sp + step\n",
    "        else:\n",
    "            pred_temp2 = pred_temp1\n",
    "        pred_temp = (pred_temp1 + pred_temp2) / 2\n",
    "        df['pred_temp'][i+1] = pred_temp\n",
    "        df['dt_reading_and_setpoint'][i+1] = pred_temp - sp\n",
    "        df['dt_outside_and_setpoint'][i+1] = df['out_temp'][i+1] - sp\n",
    "        df['time'][i+1] = str((i + 1) * 15) + ' min'\n",
    "    \n",
    "    return df[['time', 'pred_temp']]"
   ]
  },
  {
   "cell_type": "code",
   "execution_count": null,
   "id": "5cd0eb48-b551-4f8d-9e31-d81cd8e735c7",
   "metadata": {},
   "outputs": [],
   "source": []
  },
  {
   "cell_type": "code",
   "execution_count": 13,
   "id": "6759f35b-b148-403b-a3ef-98f2b8723119",
   "metadata": {},
   "outputs": [
    {
     "data": {
      "text/html": [
       "<div>\n",
       "<style scoped>\n",
       "    .dataframe tbody tr th:only-of-type {\n",
       "        vertical-align: middle;\n",
       "    }\n",
       "\n",
       "    .dataframe tbody tr th {\n",
       "        vertical-align: top;\n",
       "    }\n",
       "\n",
       "    .dataframe thead th {\n",
       "        text-align: right;\n",
       "    }\n",
       "</style>\n",
       "<table border=\"1\" class=\"dataframe\">\n",
       "  <thead>\n",
       "    <tr style=\"text-align: right;\">\n",
       "      <th></th>\n",
       "      <th>time</th>\n",
       "      <th>pred_temp</th>\n",
       "    </tr>\n",
       "  </thead>\n",
       "  <tbody>\n",
       "    <tr>\n",
       "      <th>0</th>\n",
       "      <td>0 min</td>\n",
       "      <td>16</td>\n",
       "    </tr>\n",
       "    <tr>\n",
       "      <th>1</th>\n",
       "      <td>15 min</td>\n",
       "      <td>16.637036</td>\n",
       "    </tr>\n",
       "    <tr>\n",
       "      <th>2</th>\n",
       "      <td>30 min</td>\n",
       "      <td>17.19595</td>\n",
       "    </tr>\n",
       "    <tr>\n",
       "      <th>3</th>\n",
       "      <td>45 min</td>\n",
       "      <td>17.698844</td>\n",
       "    </tr>\n",
       "    <tr>\n",
       "      <th>4</th>\n",
       "      <td>60 min</td>\n",
       "      <td>18.17385</td>\n",
       "    </tr>\n",
       "    <tr>\n",
       "      <th>5</th>\n",
       "      <td>75 min</td>\n",
       "      <td>18.600223</td>\n",
       "    </tr>\n",
       "    <tr>\n",
       "      <th>6</th>\n",
       "      <td>90 min</td>\n",
       "      <td>18.979426</td>\n",
       "    </tr>\n",
       "    <tr>\n",
       "      <th>7</th>\n",
       "      <td>105 min</td>\n",
       "      <td>19.320326</td>\n",
       "    </tr>\n",
       "  </tbody>\n",
       "</table>\n",
       "</div>"
      ],
      "text/plain": [
       "      time  pred_temp\n",
       "0    0 min         16\n",
       "1   15 min  16.637036\n",
       "2   30 min   17.19595\n",
       "3   45 min  17.698844\n",
       "4   60 min   18.17385\n",
       "5   75 min  18.600223\n",
       "6   90 min  18.979426\n",
       "7  105 min  19.320326"
      ]
     },
     "execution_count": 13,
     "metadata": {},
     "output_type": "execute_result"
    }
   ],
   "source": [
    "Predict_Temp(weather_data, inside_data)"
   ]
  },
  {
   "cell_type": "code",
   "execution_count": null,
   "id": "0f54d017-f1e0-41e6-be60-0e10539998f4",
   "metadata": {},
   "outputs": [],
   "source": []
  }
 ],
 "metadata": {
  "kernelspec": {
   "display_name": "Python 3 (ipykernel)",
   "language": "python",
   "name": "python3"
  },
  "language_info": {
   "codemirror_mode": {
    "name": "ipython",
    "version": 3
   },
   "file_extension": ".py",
   "mimetype": "text/x-python",
   "name": "python",
   "nbconvert_exporter": "python",
   "pygments_lexer": "ipython3",
   "version": "3.9.7"
  }
 },
 "nbformat": 4,
 "nbformat_minor": 5
}
